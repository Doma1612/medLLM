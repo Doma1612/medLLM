{
 "cells": [
  {
   "cell_type": "code",
   "execution_count": 8,
   "metadata": {},
   "outputs": [
    {
     "name": "stdout",
     "output_type": "stream",
     "text": [
      "Dataset with conditions and symptoms separated saved to: C:/Users/tejas/Downloads/DSAI First Sem Tejaswi/Biostatistics and Artificial Intelligence In medicine/Repository_Final_Project/medLLM/data/pmc_patients/pmc_dataset_extracted.csv\n"
     ]
    }
   ],
   "source": [
    "import pandas as pd\n",
    "import re\n",
    "\n",
    "\n",
    "file_path = 'C:/Users/tejas/Downloads/DSAI First Sem Tejaswi/Biostatistics and Artificial Intelligence In medicine/Repository_Final_Project/medLLM/data/pmc_patients/PMC-Patients-oa-9995.csv'\n",
    "df = pd.read_csv(file_path)\n",
    "\n",
    "# Define a function to trim and summarize patient descriptions\n",
    "def trim_patient_description(description):\n",
    "    # Extract age\n",
    "    age_match = re.search(r'\\b(\\d{1,3})[- ]?(year[- ]old|years? old)\\b', description, re.IGNORECASE)\n",
    "    age = age_match.group(1) + \" years old\" if age_match else \"Age not specified\"\n",
    "    \n",
    "    # Extract gender\n",
    "    gender_match = re.search(r'\\b(male|female|man|woman)\\b', description, re.IGNORECASE)\n",
    "    gender = gender_match.group(1).capitalize() if gender_match else \"Gender not specified\"\n",
    "    \n",
    "    # Define conditions and symptoms keywords\n",
    "    condition_keywords = [\"COVID-19\", \"pneumonia\", \"diabetes\", \"hypertension\", \"stroke\", \"cancer\", \"infection\", \"fracture\"]\n",
    "    symptom_keywords = [\"fever\", \"fatigue\", \"pain\", \"cough\", \"shortness of breath\", \"nausea\", \"vomiting\", \"dizziness\"]\n",
    "    \n",
    "    # Extract conditions and symptoms\n",
    "    conditions = [kw for kw in condition_keywords if re.search(rf'\\b{kw}\\b', description, re.IGNORECASE)]\n",
    "    symptoms = [kw for kw in symptom_keywords if re.search(rf'\\b{kw}\\b', description, re.IGNORECASE)]\n",
    "    \n",
    "    # Extract durations and time references\n",
    "    time_matches = re.findall(r'\\b\\d+\\s+(day|week|month|year)[s]?\\b', description, re.IGNORECASE)\n",
    "    duration = \", \".join(time_matches) if time_matches else \"No time details\"\n",
    "    \n",
    "    # Combine extracted details into a summary\n",
    "    conditions_text = \", \".join(conditions) if conditions else \"No specific conditions mentioned\"\n",
    "    symptoms_text = \", \".join(symptoms) if symptoms else \"No specific symptoms mentioned\"\n",
    "    summary = f\"{age}, {gender}. Conditions: {conditions_text}. Symptoms: {symptoms_text}. Duration: {duration}.\"\n",
    "    \n",
    "    return age, gender, conditions_text, symptoms_text, duration, summary\n",
    "\n",
    "# function to extract details and create new columns\n",
    "df['Age'], df['Gender'], df['Conditions'], df['Symptoms'], df['Duration'], df['Description Summary'] = zip(*df['patient'].apply(trim_patient_description))\n",
    "\n",
    "# Save the extracted details to a new file\n",
    "output_path = 'C:/Users/tejas/Downloads/DSAI First Sem Tejaswi/Biostatistics and Artificial Intelligence In medicine/Repository_Final_Project/medLLM/data/pmc_patients/pmc_dataset_extracted.csv'\n",
    "df[['Age', 'Gender', 'Conditions', 'Symptoms', 'Duration', 'Description Summary']].to_csv(output_path, index=False)\n",
    "print(f\"Dataset with conditions and symptoms separated saved to: {output_path}\")\n"
   ]
  }
 ],
 "metadata": {
  "kernelspec": {
   "display_name": "Python 3",
   "language": "python",
   "name": "python3"
  },
  "language_info": {
   "codemirror_mode": {
    "name": "ipython",
    "version": 3
   },
   "file_extension": ".py",
   "mimetype": "text/x-python",
   "name": "python",
   "nbconvert_exporter": "python",
   "pygments_lexer": "ipython3",
   "version": "3.11.9"
  }
 },
 "nbformat": 4,
 "nbformat_minor": 2
}
