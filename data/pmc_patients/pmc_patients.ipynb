{
 "cells": [
  {
   "cell_type": "code",
   "execution_count": null,
   "metadata": {},
   "outputs": [],
   "source": [
    "import pandas as pd\n",
    "import requests\n",
    "from tqdm import tqdm\n",
    "\n",
    "df = pd.read_csv(\"PMC-Patients.csv\")\n",
    "df = df.set_index('patient_id')\n",
    "\n",
    "def is_open_access(pmid):\n",
    "    url = f\"https://www.ebi.ac.uk/europepmc/webservices/rest/search?query=EXT_ID:{pmid}&resultType=core&format=json\"\n",
    "    response = requests.get(url)\n",
    "    \n",
    "    if response.status_code == 200:\n",
    "        data = response.json()\n",
    "        if \"resultList\" in data and data[\"resultList\"][\"result\"]:\n",
    "            result = data[\"resultList\"][\"result\"][0]\n",
    "            return result.get(\"isOpenAccess\", \"N\") == \"Y\"\n",
    "    return False\n",
    "\n",
    "valid_rows = []\n",
    "limit = 10\n",
    "\n",
    "with tqdm(total=min(len(df), limit if limit > 0 else len(df)), desc=\"Processing PMIDs\") as pbar:\n",
    "    for i, (patient_id, row) in enumerate(df.iterrows()):\n",
    "        if limit > 0 and i >= limit:\n",
    "            break\n",
    "        pmid = row['PMID']\n",
    "        if is_open_access(pmid):\n",
    "            valid_rows.append(row)\n",
    "        pbar.update(1)\n",
    "\n",
    "filtered_df = pd.DataFrame(valid_rows)\n",
    "\n",
    "filtered_df.reset_index(inplace=True)\n"
   ]
  },
  {
   "cell_type": "markdown",
   "metadata": {},
   "source": [
    "Check the Dataframe"
   ]
  },
  {
   "cell_type": "code",
   "execution_count": null,
   "metadata": {},
   "outputs": [],
   "source": [
    "filtered_df"
   ]
  },
  {
   "cell_type": "markdown",
   "metadata": {},
   "source": [
    "Run this to save the dataframe as csv file\n",
    "\n",
    "Naming convention for the output file:\\\n",
    "oa: Open Access\\\n",
    "num_rows: The number of rows which are included in this dataset"
   ]
  },
  {
   "cell_type": "code",
   "execution_count": null,
   "metadata": {},
   "outputs": [],
   "source": [
    "num_rows = len(filtered_df)\n",
    "output_csv_file = f\"PMC-Patients-oa-{num_rows}.csv\"\n",
    "filtered_df.to_csv(output_csv_file, index=False)"
   ]
  }
 ],
 "metadata": {
  "kernelspec": {
   "display_name": "bkim",
   "language": "python",
   "name": "python3"
  },
  "language_info": {
   "codemirror_mode": {
    "name": "ipython",
    "version": 3
   },
   "file_extension": ".py",
   "mimetype": "text/x-python",
   "name": "python",
   "nbconvert_exporter": "python",
   "pygments_lexer": "ipython3",
   "version": "3.12.7"
  }
 },
 "nbformat": 4,
 "nbformat_minor": 2
}
