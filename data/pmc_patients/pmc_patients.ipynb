{
 "cells": [
  {
   "cell_type": "code",
   "execution_count": 6,
   "metadata": {},
   "outputs": [
    {
     "name": "stderr",
     "output_type": "stream",
     "text": [
      "Processing PMIDs: 100%|██████████| 100/100 [00:15<00:00,  6.49it/s]\n"
     ]
    }
   ],
   "source": [
    "import pandas as pd\n",
    "import requests\n",
    "from tqdm import tqdm\n",
    "\n",
    "df = pd.read_csv(\"PMC-Patients.csv\")\n",
    "df = df.set_index('patient_id')\n",
    "\n",
    "def fetch_article_info(pmid):\n",
    "    url = f\"https://www.ebi.ac.uk/europepmc/webservices/rest/search?query=EXT_ID:{pmid}&resultType=core&format=json\"\n",
    "    response = requests.get(url)\n",
    "    \n",
    "    if response.status_code == 200:\n",
    "        data = response.json()\n",
    "        if \"resultList\" in data and data[\"resultList\"][\"result\"]:\n",
    "            result = data[\"resultList\"][\"result\"][0]\n",
    "            is_open_access = result.get(\"isOpenAccess\", \"N\") == \"Y\"\n",
    "            abstract_text = result.get(\"abstractText\", None)\n",
    "            return is_open_access, abstract_text\n",
    "    return False, None\n",
    "\n",
    "valid_rows = []\n",
    "limit = 100\n",
    "\n",
    "with tqdm(total=min(len(df), limit if limit > 0 else len(df)), desc=\"Processing PMIDs\") as pbar:\n",
    "    for i, (patient_id, row) in enumerate(df.iterrows()):\n",
    "        if limit > 0 and i >= limit:\n",
    "            break\n",
    "        pmid = row['PMID']\n",
    "        is_open, abstract_text = fetch_article_info(pmid)\n",
    "        if is_open:\n",
    "            row['abstract_text'] = abstract_text\n",
    "            valid_rows.append(row)\n",
    "        pbar.update(1)\n",
    "\n",
    "filtered_df = pd.DataFrame(valid_rows)\n",
    "\n",
    "filtered_df.reset_index(inplace=True)\n"
   ]
  },
  {
   "cell_type": "markdown",
   "metadata": {},
   "source": [
    "Check the Dataframe"
   ]
  },
  {
   "cell_type": "code",
   "execution_count": 11,
   "metadata": {},
   "outputs": [
    {
     "data": {
      "text/plain": [
       "'Coordination of care for patients with neuro-ophthalmic disorders can be very challenging in the community emergency department (ED) setting. Unlike university- or tertiary hospital-based EDs, the general ophthalmologist is often not as familiar with neuro-ophthalmology and the examination of neuro-ophthalmology patients in the acute ED setting. Embracing image capturing of the fundus, using a non-mydriatic camera, may be a game-changer for communication between ED physicians, ophthalmologists, and tele-neurologists. Patient care decisions can now be made with photographic documentation that is then conveyed through HIPAA-compliant messaging with accurate and useful information with both ease and convenience. Likewise, external photos of the anterior segment and motility are also helpful. Finally, establishing clinical and imaging guidelines for common neuro-ophthalmic disorders can help facilitate complete and appropriate evaluation and treatment.'"
      ]
     },
     "execution_count": 11,
     "metadata": {},
     "output_type": "execute_result"
    }
   ],
   "source": [
    "filtered_df"
   ]
  },
  {
   "cell_type": "markdown",
   "metadata": {},
   "source": [
    "Run this to save the dataframe as csv file\n",
    "\n",
    "Naming convention for the output file:\\\n",
    "oa: Open Access\\\n",
    "num_rows: The number of rows which are included in this dataset"
   ]
  },
  {
   "cell_type": "code",
   "execution_count": null,
   "metadata": {},
   "outputs": [],
   "source": [
    "num_rows = len(filtered_df)\n",
    "output_csv_file = f\"PMC-Patients-oa-with-abstract-{num_rows}.csv\"\n",
    "filtered_df.to_csv(output_csv_file, index=False)"
   ]
  }
 ],
 "metadata": {
  "kernelspec": {
   "display_name": "bkim",
   "language": "python",
   "name": "python3"
  },
  "language_info": {
   "codemirror_mode": {
    "name": "ipython",
    "version": 3
   },
   "file_extension": ".py",
   "mimetype": "text/x-python",
   "name": "python",
   "nbconvert_exporter": "python",
   "pygments_lexer": "ipython3",
   "version": "3.12.7"
  }
 },
 "nbformat": 4,
 "nbformat_minor": 2
}
