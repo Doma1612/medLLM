{
 "cells": [
  {
   "cell_type": "code",
   "execution_count": null,
   "metadata": {},
   "outputs": [
    {
     "name": "stdout",
     "output_type": "stream",
     "text": [
      "Short summaries with limited length saved to: patients_short_summaries.csv\n"
     ]
    }
   ],
   "source": [
    "import pandas as pd\n",
    "\n",
    "# Load the dataset\n",
    "file_path = 'pmc_patients/PMC-Patients-oa-9995.csv'  \n",
    "data = pd.read_csv(file_path)\n",
    "\n",
    "# Extract and limit the length of summaries\n",
    "def extract_and_trim(description, max_length=300):\n",
    "    if isinstance(description, str):\n",
    "        summary = description.split('.')[0].strip()  # Extract first sentence\n",
    "        return summary[:max_length].strip()  # Trim to max_length\n",
    "    return None\n",
    "\n",
    "data['summary'] = data['patient'].apply(lambda x: extract_and_trim(x, max_length=300))\n",
    "\n",
    "# Save the trimmed summaries\n",
    "output_file_path = 'patients_short_summaries.csv'\n",
    "data[['summary']].to_csv(output_file_path, index=False)\n",
    "\n",
    "print(f\"Short summaries with limited length saved to: {output_file_path}\")"
   ]
  },
  {
   "cell_type": "code",
   "execution_count": null,
   "metadata": {},
   "outputs": [
    {
     "name": "stdout",
     "output_type": "stream",
     "text": [
      "Trimmed patient descriptions saved to: processed_patient_descriptions.csv\n"
     ]
    }
   ],
   "source": [
    "import pandas as pd\n",
    "\n",
    "# Load the dataset\n",
    "file_path =  'PMC-Patients-oa-9995.csv'  \n",
    "data = pd.read_csv(file_path)\n",
    "\n",
    "# Extract and trim the patient descriptions\n",
    "trimmed_data = data[['patient']].copy()\n",
    "trimmed_data['patient'] = trimmed_data['patient'].str.strip()\n",
    "\n",
    "# Save the trimmed descriptions to a new CSV file\n",
    "data['description'] = trimmed_data\n",
    "output_file_path = 'processed_patient_descriptions.csv'  \n",
    "data[['description']].to_csv(output_file_path, index=False)\n",
    "\n",
    "print(f\"Trimmed patient descriptions saved to: {output_file_path}\")\n"
   ]
  }
 ],
 "metadata": {
  "kernelspec": {
   "display_name": "Python 3",
   "language": "python",
   "name": "python3"
  },
  "language_info": {
   "codemirror_mode": {
    "name": "ipython",
    "version": 3
   },
   "file_extension": ".py",
   "mimetype": "text/x-python",
   "name": "python",
   "nbconvert_exporter": "python",
   "pygments_lexer": "ipython3",
   "version": "3.11.9"
  }
 },
 "nbformat": 4,
 "nbformat_minor": 2
}
