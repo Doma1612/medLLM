{
 "cells": [
  {
   "cell_type": "code",
   "execution_count": 7,
   "metadata": {},
   "outputs": [
    {
     "name": "stdout",
     "output_type": "stream",
     "text": [
      "                                             patient  \\\n",
      "0  This 60-year-old male was hospitalized due to ...   \n",
      "1  A 39-year-old man was hospitalized due to an i...   \n",
      "2  One week after a positive COVID-19 result this...   \n",
      "3  This 69-year-old male was admitted to the ICU ...   \n",
      "4  This 57-year-old male was admitted to the ICU ...   \n",
      "\n",
      "                                     trimmed_patient  \n",
      "0  60 years old, Male. Conditions: COVID-19, feve...  \n",
      "1  39 years old, Man. Conditions: fever. Duration...  \n",
      "2  57 years old, Male. Conditions: COVID-19, ICU....  \n",
      "3  69 years old, Male. Conditions: COVID-19, pneu...  \n",
      "4  57 years old, Male. Conditions: COVID-19, ICU,...  \n",
      "Trimmed dataset saved to: C:/Users/tejas/Downloads/DSAI First Sem Tejaswi/Biostatistics and Artificial Intelligence In medicine/Repository_Final_Project/medLLM/data/pmc_patients/pmc_dataset_trimming.ipynb\n"
     ]
    }
   ],
   "source": [
    "import pandas as pd\n",
    "import re\n",
    "\n",
    "# Load the dataset\n",
    "file_path = 'C:/Users/tejas/Downloads/DSAI First Sem Tejaswi/Biostatistics and Artificial Intelligence In medicine/Repository_Final_Project/medLLM/data/pmc_patients/PMC-Patients-oa-9995.csv'\n",
    "df = pd.read_csv(file_path)\n",
    "\n",
    "# Define a function to trim and summarize patient descriptions\n",
    "def trim_patient_description(description):\n",
    "    # Extract age\n",
    "    age_match = re.search(r'\\b(\\d{1,3})[- ]?(year[- ]old|years? old)\\b', description, re.IGNORECASE)\n",
    "    age = age_match.group(1) + \" years old\" if age_match else \"Age not specified\"\n",
    "    \n",
    "    # Extract gender\n",
    "    gender_match = re.search(r'\\b(male|female|man|woman)\\b', description, re.IGNORECASE)\n",
    "    gender = gender_match.group(1).capitalize() if gender_match else \"Gender not specified\"\n",
    "    \n",
    "    # Extract symptoms and conditions\n",
    "    keywords = [\"COVID-19\", \"pneumonia\", \"ICU\", \"surgery\", \"diabetes\", \"hypertension\", \n",
    "                \"stroke\", \"cancer\", \"fever\", \"fatigue\", \"pain\", \"infection\", \"fracture\"]\n",
    "    found_conditions = [kw for kw in keywords if re.search(rf'\\b{kw}\\b', description, re.IGNORECASE)]\n",
    "    \n",
    "    # Extract durations and time references\n",
    "    time_matches = re.findall(r'\\b\\d+\\s+(day|week|month|year)[s]?\\b', description, re.IGNORECASE)\n",
    "    duration = \", \".join(time_matches) if time_matches else \"No time details\"\n",
    "    \n",
    "    # Combine extracted details into a summary\n",
    "    conditions = \", \".join(found_conditions) if found_conditions else \"No specific conditions mentioned\"\n",
    "    summary = f\"{age}, {gender}. Conditions: {conditions}. Duration: {duration}.\"\n",
    "    return summary\n",
    "\n",
    "# Apply the function to the 'patient' column\n",
    "df['trimmed_patient'] = df['patient'].apply(trim_patient_description)\n",
    "\n",
    "# Preview the trimmed descriptions\n",
    "print(df[['patient', 'trimmed_patient']].head())\n",
    "\n",
    "# Save the trimmed dataset to a new file\n",
    "output_path = 'C:/Users/tejas/Downloads/DSAI First Sem Tejaswi/Biostatistics and Artificial Intelligence In medicine/Repository_Final_Project/medLLM/data/pmc_patients/pmc_dataset_trimming.ipynb'\n",
    "df.to_csv(output_path, index=False)\n",
    "print(f\"Trimmed dataset saved to: {output_path}\")\n"
   ]
  }
 ],
 "metadata": {
  "kernelspec": {
   "display_name": "Python 3",
   "language": "python",
   "name": "python3"
  },
  "language_info": {
   "codemirror_mode": {
    "name": "ipython",
    "version": 3
   },
   "file_extension": ".py",
   "mimetype": "text/x-python",
   "name": "python",
   "nbconvert_exporter": "python",
   "pygments_lexer": "ipython3",
   "version": "3.11.9"
  }
 },
 "nbformat": 4,
 "nbformat_minor": 2
}
