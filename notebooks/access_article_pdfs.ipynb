{
 "cells": [
  {
   "cell_type": "code",
   "execution_count": 1,
   "metadata": {},
   "outputs": [],
   "source": [
    "import ast\n",
    "import fitz\n",
    "import io\n",
    "import pandas as pd\n",
    "from tqdm import tqdm\n",
    "import requests"
   ]
  },
  {
   "cell_type": "code",
   "execution_count": 7,
   "metadata": {},
   "outputs": [],
   "source": [
    "df = pd.read_csv(\"/home/dominik/Documents/Informatik/1_Semester/medLLM/data/pmc_patients/PMC-Patients.csv\")\n",
    "article_ids = df[\"PMID\"].head(100).tolist()\n",
    "linked_ids_scores = df[\"relevant_articles\"].head(100).tolist()\n",
    "\n",
    "articles_PMID = set()\n",
    "articles_PMID.update(article_ids)"
   ]
  },
  {
   "cell_type": "code",
   "execution_count": 8,
   "metadata": {},
   "outputs": [
    {
     "name": "stdout",
     "output_type": "stream",
     "text": [
      "1497\n"
     ]
    }
   ],
   "source": [
    "for id_score in linked_ids_scores:\n",
    "    data_dict = ast.literal_eval(id_score)\n",
    "    for article_id in data_dict.keys():\n",
    "        articles_PMID.add(article_id)\n",
    "\n",
    "\n",
    "print(len(articles_PMID))"
   ]
  },
  {
   "cell_type": "code",
   "execution_count": 9,
   "metadata": {},
   "outputs": [
    {
     "data": {
      "text/html": [
       "<div>\n",
       "<style scoped>\n",
       "    .dataframe tbody tr th:only-of-type {\n",
       "        vertical-align: middle;\n",
       "    }\n",
       "\n",
       "    .dataframe tbody tr th {\n",
       "        vertical-align: top;\n",
       "    }\n",
       "\n",
       "    .dataframe thead th {\n",
       "        text-align: right;\n",
       "    }\n",
       "</style>\n",
       "<table border=\"1\" class=\"dataframe\">\n",
       "  <thead>\n",
       "    <tr style=\"text-align: right;\">\n",
       "      <th></th>\n",
       "      <th>PMID</th>\n",
       "    </tr>\n",
       "  </thead>\n",
       "  <tbody>\n",
       "    <tr>\n",
       "      <th>0</th>\n",
       "      <td>25417072</td>\n",
       "    </tr>\n",
       "    <tr>\n",
       "      <th>1</th>\n",
       "      <td>34957196</td>\n",
       "    </tr>\n",
       "    <tr>\n",
       "      <th>2</th>\n",
       "      <td>34706170</td>\n",
       "    </tr>\n",
       "    <tr>\n",
       "      <th>3</th>\n",
       "      <td>34957243</td>\n",
       "    </tr>\n",
       "    <tr>\n",
       "      <th>4</th>\n",
       "      <td>25428188</td>\n",
       "    </tr>\n",
       "  </tbody>\n",
       "</table>\n",
       "</div>"
      ],
      "text/plain": [
       "       PMID\n",
       "0  25417072\n",
       "1  34957196\n",
       "2  34706170\n",
       "3  34957243\n",
       "4  25428188"
      ]
     },
     "execution_count": 9,
     "metadata": {},
     "output_type": "execute_result"
    }
   ],
   "source": [
    "articles = pd.DataFrame(list(articles_PMID), columns=[\"PMID\"])\n",
    "articles.head()"
   ]
  },
  {
   "cell_type": "code",
   "execution_count": 10,
   "metadata": {},
   "outputs": [],
   "source": [
    "def get_full_text_url(response_dict_list: list):\n",
    "    for file_type_dict in response_dict_list:\n",
    "        if file_type_dict.get(\"documentStyle\") == \"pdf\" and file_type_dict.get(\"availabilityCode\") == \"OA\":\n",
    "            return file_type_dict.get(\"url\", None)\n",
    "    return None"
   ]
  },
  {
   "cell_type": "code",
   "execution_count": 34,
   "metadata": {},
   "outputs": [],
   "source": [
    "def get_article_data(pmid):\n",
    "    url = f\"https://www.ebi.ac.uk/europepmc/webservices/rest/search?query=EXT_ID:{pmid}&resultType=core&format=json\"\n",
    "    response = requests.get(url)\n",
    "    article_data = {}\n",
    "    if response.status_code == 200:\n",
    "        data = response.json()\n",
    "        if \"resultList\" in data and data[\"resultList\"][\"result\"]:\n",
    "            data_result = data[\"resultList\"][\"result\"][0]\n",
    "            article_data[\"PMID\"] = pmid\n",
    "            article_data[\"title\"] = data_result.get(\"title\")\n",
    "            article_data[\"doi\"] = data_result.get(\"doi\")\n",
    "            article_data[\"authors\"] = data_result.get(\"authorString\")\n",
    "            article_data[\"year\"] = data_result.get(\"pubYear\")\n",
    "            article_data[\"journal\"] = (\n",
    "                    data_result.get(\"journalInfo\", {})\n",
    "                    .get(\"journal\", {})\n",
    "                    .get(\"title\", None)\n",
    "                )\n",
    "            article_data[\"abstract\"] = data_result.get(\"abstractText\")\n",
    "            result = data[\"resultList\"][\"result\"][0]\n",
    "            if result.get(\"isOpenAccess\", \"N\") == \"Y\":\n",
    "                article_data[\"full_text_url\"] = get_full_text_url(data[\"resultList\"][\"result\"][0][\"fullTextUrlList\"][\"fullTextUrl\"])\n",
    "        return article_data"
   ]
  },
  {
   "cell_type": "code",
   "execution_count": 21,
   "metadata": {},
   "outputs": [
    {
     "ename": "KeyError",
     "evalue": "'PMID'",
     "output_type": "error",
     "traceback": [
      "\u001b[0;31m---------------------------------------------------------------------------\u001b[0m",
      "\u001b[0;31mKeyError\u001b[0m                                  Traceback (most recent call last)",
      "Cell \u001b[0;32mIn[21], line 4\u001b[0m\n\u001b[1;32m      1\u001b[0m tqdm\u001b[38;5;241m.\u001b[39mpandas()\n\u001b[0;32m----> 4\u001b[0m articles \u001b[38;5;241m=\u001b[39m \u001b[43marticles\u001b[49m\u001b[43m[\u001b[49m\u001b[38;5;124;43m'\u001b[39;49m\u001b[38;5;124;43mPMID\u001b[39;49m\u001b[38;5;124;43m'\u001b[39;49m\u001b[43m]\u001b[49m\u001b[38;5;241m.\u001b[39mprogress_apply(get_article_data)\n\u001b[1;32m      5\u001b[0m \u001b[38;5;28mprint\u001b[39m(articles)\n\u001b[1;32m      6\u001b[0m \u001b[38;5;28mprint\u001b[39m(articles\u001b[38;5;241m.\u001b[39mkeys())\n",
      "File \u001b[0;32m~/anaconda3/envs/bkim/lib/python3.12/site-packages/pandas/core/series.py:1121\u001b[0m, in \u001b[0;36mSeries.__getitem__\u001b[0;34m(self, key)\u001b[0m\n\u001b[1;32m   1118\u001b[0m     \u001b[38;5;28;01mreturn\u001b[39;00m \u001b[38;5;28mself\u001b[39m\u001b[38;5;241m.\u001b[39m_values[key]\n\u001b[1;32m   1120\u001b[0m \u001b[38;5;28;01melif\u001b[39;00m key_is_scalar:\n\u001b[0;32m-> 1121\u001b[0m     \u001b[38;5;28;01mreturn\u001b[39;00m \u001b[38;5;28;43mself\u001b[39;49m\u001b[38;5;241;43m.\u001b[39;49m\u001b[43m_get_value\u001b[49m\u001b[43m(\u001b[49m\u001b[43mkey\u001b[49m\u001b[43m)\u001b[49m\n\u001b[1;32m   1123\u001b[0m \u001b[38;5;66;03m# Convert generator to list before going through hashable part\u001b[39;00m\n\u001b[1;32m   1124\u001b[0m \u001b[38;5;66;03m# (We will iterate through the generator there to check for slices)\u001b[39;00m\n\u001b[1;32m   1125\u001b[0m \u001b[38;5;28;01mif\u001b[39;00m is_iterator(key):\n",
      "File \u001b[0;32m~/anaconda3/envs/bkim/lib/python3.12/site-packages/pandas/core/series.py:1237\u001b[0m, in \u001b[0;36mSeries._get_value\u001b[0;34m(self, label, takeable)\u001b[0m\n\u001b[1;32m   1234\u001b[0m     \u001b[38;5;28;01mreturn\u001b[39;00m \u001b[38;5;28mself\u001b[39m\u001b[38;5;241m.\u001b[39m_values[label]\n\u001b[1;32m   1236\u001b[0m \u001b[38;5;66;03m# Similar to Index.get_value, but we do not fall back to positional\u001b[39;00m\n\u001b[0;32m-> 1237\u001b[0m loc \u001b[38;5;241m=\u001b[39m \u001b[38;5;28;43mself\u001b[39;49m\u001b[38;5;241;43m.\u001b[39;49m\u001b[43mindex\u001b[49m\u001b[38;5;241;43m.\u001b[39;49m\u001b[43mget_loc\u001b[49m\u001b[43m(\u001b[49m\u001b[43mlabel\u001b[49m\u001b[43m)\u001b[49m\n\u001b[1;32m   1239\u001b[0m \u001b[38;5;28;01mif\u001b[39;00m is_integer(loc):\n\u001b[1;32m   1240\u001b[0m     \u001b[38;5;28;01mreturn\u001b[39;00m \u001b[38;5;28mself\u001b[39m\u001b[38;5;241m.\u001b[39m_values[loc]\n",
      "File \u001b[0;32m~/anaconda3/envs/bkim/lib/python3.12/site-packages/pandas/core/indexes/range.py:417\u001b[0m, in \u001b[0;36mRangeIndex.get_loc\u001b[0;34m(self, key)\u001b[0m\n\u001b[1;32m    415\u001b[0m         \u001b[38;5;28;01mraise\u001b[39;00m \u001b[38;5;167;01mKeyError\u001b[39;00m(key) \u001b[38;5;28;01mfrom\u001b[39;00m \u001b[38;5;21;01merr\u001b[39;00m\n\u001b[1;32m    416\u001b[0m \u001b[38;5;28;01mif\u001b[39;00m \u001b[38;5;28misinstance\u001b[39m(key, Hashable):\n\u001b[0;32m--> 417\u001b[0m     \u001b[38;5;28;01mraise\u001b[39;00m \u001b[38;5;167;01mKeyError\u001b[39;00m(key)\n\u001b[1;32m    418\u001b[0m \u001b[38;5;28mself\u001b[39m\u001b[38;5;241m.\u001b[39m_check_indexing_error(key)\n\u001b[1;32m    419\u001b[0m \u001b[38;5;28;01mraise\u001b[39;00m \u001b[38;5;167;01mKeyError\u001b[39;00m(key)\n",
      "\u001b[0;31mKeyError\u001b[0m: 'PMID'"
     ]
    }
   ],
   "source": [
    "tqdm.pandas()\n",
    "\n",
    "\n",
    "articles = articles['PMID'].progress_apply(get_article_data)\n",
    "print(articles)\n",
    "print(articles.keys())"
   ]
  },
  {
   "cell_type": "code",
   "execution_count": 23,
   "metadata": {},
   "outputs": [
    {
     "data": {
      "text/plain": [
       "pandas.core.series.Series"
      ]
     },
     "execution_count": 23,
     "metadata": {},
     "output_type": "execute_result"
    }
   ],
   "source": [
    "type(articles)"
   ]
  },
  {
   "cell_type": "code",
   "execution_count": 25,
   "metadata": {},
   "outputs": [
    {
     "data": {
      "text/plain": [
       "count                                                  1497\n",
       "unique                                                 1497\n",
       "top       {'PMID': '26055964', 'title': 'Gradual loss of...\n",
       "freq                                                      1\n",
       "Name: PMID, dtype: object"
      ]
     },
     "execution_count": 25,
     "metadata": {},
     "output_type": "execute_result"
    }
   ],
   "source": [
    "articles.describe()"
   ]
  },
  {
   "cell_type": "code",
   "execution_count": 20,
   "metadata": {},
   "outputs": [
    {
     "data": {
      "text/html": [
       "<div>\n",
       "<style scoped>\n",
       "    .dataframe tbody tr th:only-of-type {\n",
       "        vertical-align: middle;\n",
       "    }\n",
       "\n",
       "    .dataframe tbody tr th {\n",
       "        vertical-align: top;\n",
       "    }\n",
       "\n",
       "    .dataframe thead th {\n",
       "        text-align: right;\n",
       "    }\n",
       "</style>\n",
       "<table border=\"1\" class=\"dataframe\">\n",
       "  <thead>\n",
       "    <tr style=\"text-align: right;\">\n",
       "      <th></th>\n",
       "      <th>PMID</th>\n",
       "    </tr>\n",
       "  </thead>\n",
       "  <tbody>\n",
       "    <tr>\n",
       "      <th>0</th>\n",
       "      <td>{'PMID': '25417072', 'title': 'New oral antico...</td>\n",
       "    </tr>\n",
       "    <tr>\n",
       "      <th>1</th>\n",
       "      <td>{'PMID': '34957196', 'title': 'Optic Foraminot...</td>\n",
       "    </tr>\n",
       "    <tr>\n",
       "      <th>2</th>\n",
       "      <td>{'PMID': '34706170', 'title': 'Waning Immunity...</td>\n",
       "    </tr>\n",
       "    <tr>\n",
       "      <th>3</th>\n",
       "      <td>{'PMID': '34957243', 'title': 'Case Report: A ...</td>\n",
       "    </tr>\n",
       "    <tr>\n",
       "      <th>4</th>\n",
       "      <td>{'PMID': '25428188', 'title': 'Enteric disease...</td>\n",
       "    </tr>\n",
       "    <tr>\n",
       "      <th>...</th>\n",
       "      <td>...</td>\n",
       "    </tr>\n",
       "    <tr>\n",
       "      <th>1492</th>\n",
       "      <td>{'PMID': '18268431', 'title': 'Congenital hypo...</td>\n",
       "    </tr>\n",
       "    <tr>\n",
       "      <th>1493</th>\n",
       "      <td>{'PMID': '30058742', 'title': 'Suicide as a re...</td>\n",
       "    </tr>\n",
       "    <tr>\n",
       "      <th>1494</th>\n",
       "      <td>{'PMID': '30299888', 'title': 'GENETICS IN END...</td>\n",
       "    </tr>\n",
       "    <tr>\n",
       "      <th>1495</th>\n",
       "      <td>{'PMID': '23737188', 'title': 'Post-transplant...</td>\n",
       "    </tr>\n",
       "    <tr>\n",
       "      <th>1496</th>\n",
       "      <td>{'PMID': '26055964', 'title': 'Gradual loss of...</td>\n",
       "    </tr>\n",
       "  </tbody>\n",
       "</table>\n",
       "<p>1497 rows × 1 columns</p>\n",
       "</div>"
      ],
      "text/plain": [
       "                                                   PMID\n",
       "0     {'PMID': '25417072', 'title': 'New oral antico...\n",
       "1     {'PMID': '34957196', 'title': 'Optic Foraminot...\n",
       "2     {'PMID': '34706170', 'title': 'Waning Immunity...\n",
       "3     {'PMID': '34957243', 'title': 'Case Report: A ...\n",
       "4     {'PMID': '25428188', 'title': 'Enteric disease...\n",
       "...                                                 ...\n",
       "1492  {'PMID': '18268431', 'title': 'Congenital hypo...\n",
       "1493  {'PMID': '30058742', 'title': 'Suicide as a re...\n",
       "1494  {'PMID': '30299888', 'title': 'GENETICS IN END...\n",
       "1495  {'PMID': '23737188', 'title': 'Post-transplant...\n",
       "1496  {'PMID': '26055964', 'title': 'Gradual loss of...\n",
       "\n",
       "[1497 rows x 1 columns]"
      ]
     },
     "execution_count": 20,
     "metadata": {},
     "output_type": "execute_result"
    }
   ],
   "source": [
    "articles_df = pd.DataFrame(articles)\n",
    "articles_df"
   ]
  },
  {
   "cell_type": "code",
   "execution_count": 26,
   "metadata": {},
   "outputs": [],
   "source": [
    "articles_list = articles.tolist()"
   ]
  },
  {
   "cell_type": "code",
   "execution_count": 27,
   "metadata": {},
   "outputs": [],
   "source": [
    "articles_df = pd.DataFrame(articles_list)"
   ]
  },
  {
   "cell_type": "code",
   "execution_count": 29,
   "metadata": {},
   "outputs": [],
   "source": [
    "articles_df.head()\n",
    "articles_df.to_csv(\"/home/dominik/Documents/Informatik/1_Semester/medLLM/data/pmc_patients/100_article_data_final_state.csv\")"
   ]
  },
  {
   "cell_type": "code",
   "execution_count": 55,
   "metadata": {},
   "outputs": [],
   "source": [
    "first_1000 = articles_df[articles_df[\"full_text_url\"].notna()].head(50)"
   ]
  },
  {
   "cell_type": "code",
   "execution_count": 56,
   "metadata": {},
   "outputs": [],
   "source": [
    "import time \n",
    "\n",
    "def extract_text_from_pdf(url):\n",
    "    if url is None:\n",
    "        return None\n",
    "    try:\n",
    "        #time.sleep(5)\n",
    "        session = requests.Session()  # Persistente Sitzung\n",
    "        headers = {\n",
    "            'User-Agent': 'Mozilla/5.0 (X11; Linux x86_64) AppleWebKit/537.36 (KHTML, like Gecko) Chrome/131.0.0.0 Safari/537.36',\n",
    "            'Referer': 'https://example.com',  # Generische URL oder die Seite, von der du den Link hast\n",
    "        }\n",
    "        response = session.get(url, headers=headers)\n",
    "        if response.status_code == 200:\n",
    "            pdf_file = io.BytesIO(response.content)\n",
    "            pdf_document = fitz.open(stream=pdf_file, filetype=\"pdf\")\n",
    "            text = \"\"\n",
    "            for page in pdf_document:\n",
    "                text += page.get_text()\n",
    "            pdf_document.close()\n",
    "            return text\n",
    "        else:\n",
    "            return f\"Failed to download PDF (status code: {response.status_code})\"\n",
    "    except Exception as e:\n",
    "        return str(e)"
   ]
  },
  {
   "cell_type": "code",
   "execution_count": 57,
   "metadata": {},
   "outputs": [
    {
     "name": "stderr",
     "output_type": "stream",
     "text": [
      "Extracting text from PDFs: 100%|██████████| 50/50 [00:44<00:00,  1.11it/s]\n"
     ]
    },
    {
     "data": {
      "text/html": [
       "<div>\n",
       "<style scoped>\n",
       "    .dataframe tbody tr th:only-of-type {\n",
       "        vertical-align: middle;\n",
       "    }\n",
       "\n",
       "    .dataframe tbody tr th {\n",
       "        vertical-align: top;\n",
       "    }\n",
       "\n",
       "    .dataframe thead th {\n",
       "        text-align: right;\n",
       "    }\n",
       "</style>\n",
       "<table border=\"1\" class=\"dataframe\">\n",
       "  <thead>\n",
       "    <tr style=\"text-align: right;\">\n",
       "      <th></th>\n",
       "      <th>PMID</th>\n",
       "      <th>title</th>\n",
       "      <th>doi</th>\n",
       "      <th>authors</th>\n",
       "      <th>year</th>\n",
       "      <th>journal</th>\n",
       "      <th>abstract</th>\n",
       "      <th>full_text_url</th>\n",
       "      <th>full_text</th>\n",
       "    </tr>\n",
       "  </thead>\n",
       "  <tbody>\n",
       "    <tr>\n",
       "      <th>1</th>\n",
       "      <td>34957196</td>\n",
       "      <td>Optic Foraminotomy for Clipping of Superior Ca...</td>\n",
       "      <td>10.3389/fsurg.2021.681115</td>\n",
       "      <td>Baldoncini M, Luzzi S, Giotta Lucifero A, Flor...</td>\n",
       "      <td>2021</td>\n",
       "      <td>Frontiers in surgery</td>\n",
       "      <td>&lt;b&gt;Background:&lt;/b&gt; Carotid-ophthalmic aneurysm...</td>\n",
       "      <td>https://www.frontiersin.org/articles/10.3389/f...</td>\n",
       "      <td>ORIGINAL RESEARCH\\npublished: 09 December 2021...</td>\n",
       "    </tr>\n",
       "    <tr>\n",
       "      <th>2</th>\n",
       "      <td>34706170</td>\n",
       "      <td>Waning Immunity after the BNT162b2 Vaccine in ...</td>\n",
       "      <td>10.1056/nejmoa2114228</td>\n",
       "      <td>Goldberg Y, Mandel M, Bar-On YM, Bodenheimer O...</td>\n",
       "      <td>2021</td>\n",
       "      <td>The New England journal of medicine</td>\n",
       "      <td>&lt;h4&gt;Background&lt;/h4&gt;In December 2020, Israel be...</td>\n",
       "      <td>https://europepmc.org/articles/PMC8609604?pdf=...</td>\n",
       "      <td>The new engl and jour nal of medicine\\nn engl ...</td>\n",
       "    </tr>\n",
       "    <tr>\n",
       "      <th>3</th>\n",
       "      <td>34957243</td>\n",
       "      <td>Case Report: A Giant Left-Ventricular Intramur...</td>\n",
       "      <td>10.3389/fcvm.2021.753627</td>\n",
       "      <td>Hua M, Gao Y, Li J, Tong F, Li X, Zhang H.</td>\n",
       "      <td>2021</td>\n",
       "      <td>Frontiers in cardiovascular medicine</td>\n",
       "      <td>In this report, we present a case study of an ...</td>\n",
       "      <td>https://www.frontiersin.org/articles/10.3389/f...</td>\n",
       "      <td>CASE REPORT\\npublished: 09 December 2021\\ndoi:...</td>\n",
       "    </tr>\n",
       "    <tr>\n",
       "      <th>11</th>\n",
       "      <td>32563547</td>\n",
       "      <td>Autoinflammatory and autoimmune conditions at ...</td>\n",
       "      <td>10.1016/j.jaut.2020.102506</td>\n",
       "      <td>Rodríguez Y, Novelli L, Rojas M, De Santis M, ...</td>\n",
       "      <td>2020</td>\n",
       "      <td>Journal of autoimmunity</td>\n",
       "      <td>Coronavirus disease 2019 (COVID-19) has been c...</td>\n",
       "      <td>https://europepmc.org/articles/PMC7296326?pdf=...</td>\n",
       "      <td>\\n \\nSince January 2020 Elsevier has created ...</td>\n",
       "    </tr>\n",
       "    <tr>\n",
       "      <th>25</th>\n",
       "      <td>34614329</td>\n",
       "      <td>Myocarditis after Covid-19 Vaccination in a La...</td>\n",
       "      <td>10.1056/nejmoa2110737</td>\n",
       "      <td>Witberg G, Barda N, Hoss S, Richter I, Wiessma...</td>\n",
       "      <td>2021</td>\n",
       "      <td>The New England journal of medicine</td>\n",
       "      <td>&lt;h4&gt;Background&lt;/h4&gt;Reports have suggested an a...</td>\n",
       "      <td>https://www.nejm.org/doi/pdf/10.1056/NEJMoa211...</td>\n",
       "      <td>Failed to download PDF (status code: 403)</td>\n",
       "    </tr>\n",
       "    <tr>\n",
       "      <th>30</th>\n",
       "      <td>27378956</td>\n",
       "      <td>Mental Pain and Suicide: A Systematic Review o...</td>\n",
       "      <td>10.3389/fpsyt.2016.00108</td>\n",
       "      <td>Verrocchio MC, Verrocchio MC, Carrozzino D, Ma...</td>\n",
       "      <td>2016</td>\n",
       "      <td>Frontiers in psychiatry</td>\n",
       "      <td>&lt;h4&gt;Background&lt;/h4&gt;Mental pain, defined as a s...</td>\n",
       "      <td>https://www.frontiersin.org/articles/10.3389/f...</td>\n",
       "      <td>June 2016  |  Volume 7  |  Article 108\\n1\\nRev...</td>\n",
       "    </tr>\n",
       "    <tr>\n",
       "      <th>34</th>\n",
       "      <td>30712880</td>\n",
       "      <td>Prenatal exome sequencing analysis in fetal st...</td>\n",
       "      <td>10.1016/s0140-6736(18)31940-8</td>\n",
       "      <td>Lord J, McMullan DJ, Eberhardt RY, Rinck G, Ha...</td>\n",
       "      <td>2019</td>\n",
       "      <td>Lancet (London, England)</td>\n",
       "      <td>&lt;h4&gt;Background&lt;/h4&gt;Fetal structural anomalies,...</td>\n",
       "      <td>http://www.thelancet.com/article/S014067361831...</td>\n",
       "      <td>Failed to download PDF (status code: 403)</td>\n",
       "    </tr>\n",
       "    <tr>\n",
       "      <th>35</th>\n",
       "      <td>34942917</td>\n",
       "      <td>Ischemic Stroke in a Patient with Stable CADAS...</td>\n",
       "      <td>10.3390/brainsci11121615</td>\n",
       "      <td>Cruciani A, Pilato F, Rossi M, Motolese F, Di ...</td>\n",
       "      <td>2021</td>\n",
       "      <td>Brain sciences</td>\n",
       "      <td>&lt;h4&gt;Background&lt;/h4&gt;SARS-CoV-2 infection has be...</td>\n",
       "      <td>https://www.mdpi.com/2076-3425/11/12/1615/pdf?...</td>\n",
       "      <td>brain\\nsciences\\nCase Report\\nIschemic Stroke ...</td>\n",
       "    </tr>\n",
       "    <tr>\n",
       "      <th>37</th>\n",
       "      <td>33587810</td>\n",
       "      <td>Prolonged elevation of D-dimer levels in conva...</td>\n",
       "      <td>10.1111/jth.15267</td>\n",
       "      <td>Townsend L, Fogarty H, Dyer A, Martin-Loeches ...</td>\n",
       "      <td>2021</td>\n",
       "      <td>Journal of thrombosis and haemostasis : JTH</td>\n",
       "      <td>&lt;h4&gt;Background&lt;/h4&gt;Persistent fatigue, breathl...</td>\n",
       "      <td>http://www.jthjournal.org/article/S15387836220...</td>\n",
       "      <td>Failed to download PDF (status code: 403)</td>\n",
       "    </tr>\n",
       "    <tr>\n",
       "      <th>38</th>\n",
       "      <td>33282175</td>\n",
       "      <td>Repetitive Transcranial Magnetic Stimulation i...</td>\n",
       "      <td>10.1177/2045125320973790</td>\n",
       "      <td>Hett D, Marwaha S.</td>\n",
       "      <td>2020</td>\n",
       "      <td>Therapeutic advances in psychopharmacology</td>\n",
       "      <td>Bipolar disorder (BD) is a debilitating mood d...</td>\n",
       "      <td>https://europepmc.org/articles/PMC7682206?pdf=...</td>\n",
       "      <td>https://doi.org/10.1177/2045125320973790 \\nhtt...</td>\n",
       "    </tr>\n",
       "  </tbody>\n",
       "</table>\n",
       "</div>"
      ],
      "text/plain": [
       "        PMID                                              title  \\\n",
       "1   34957196  Optic Foraminotomy for Clipping of Superior Ca...   \n",
       "2   34706170  Waning Immunity after the BNT162b2 Vaccine in ...   \n",
       "3   34957243  Case Report: A Giant Left-Ventricular Intramur...   \n",
       "11  32563547  Autoinflammatory and autoimmune conditions at ...   \n",
       "25  34614329  Myocarditis after Covid-19 Vaccination in a La...   \n",
       "30  27378956  Mental Pain and Suicide: A Systematic Review o...   \n",
       "34  30712880  Prenatal exome sequencing analysis in fetal st...   \n",
       "35  34942917  Ischemic Stroke in a Patient with Stable CADAS...   \n",
       "37  33587810  Prolonged elevation of D-dimer levels in conva...   \n",
       "38  33282175  Repetitive Transcranial Magnetic Stimulation i...   \n",
       "\n",
       "                              doi  \\\n",
       "1       10.3389/fsurg.2021.681115   \n",
       "2           10.1056/nejmoa2114228   \n",
       "3        10.3389/fcvm.2021.753627   \n",
       "11     10.1016/j.jaut.2020.102506   \n",
       "25          10.1056/nejmoa2110737   \n",
       "30       10.3389/fpsyt.2016.00108   \n",
       "34  10.1016/s0140-6736(18)31940-8   \n",
       "35       10.3390/brainsci11121615   \n",
       "37              10.1111/jth.15267   \n",
       "38       10.1177/2045125320973790   \n",
       "\n",
       "                                              authors  year  \\\n",
       "1   Baldoncini M, Luzzi S, Giotta Lucifero A, Flor...  2021   \n",
       "2   Goldberg Y, Mandel M, Bar-On YM, Bodenheimer O...  2021   \n",
       "3          Hua M, Gao Y, Li J, Tong F, Li X, Zhang H.  2021   \n",
       "11  Rodríguez Y, Novelli L, Rojas M, De Santis M, ...  2020   \n",
       "25  Witberg G, Barda N, Hoss S, Richter I, Wiessma...  2021   \n",
       "30  Verrocchio MC, Verrocchio MC, Carrozzino D, Ma...  2016   \n",
       "34  Lord J, McMullan DJ, Eberhardt RY, Rinck G, Ha...  2019   \n",
       "35  Cruciani A, Pilato F, Rossi M, Motolese F, Di ...  2021   \n",
       "37  Townsend L, Fogarty H, Dyer A, Martin-Loeches ...  2021   \n",
       "38                                 Hett D, Marwaha S.  2020   \n",
       "\n",
       "                                        journal  \\\n",
       "1                          Frontiers in surgery   \n",
       "2           The New England journal of medicine   \n",
       "3          Frontiers in cardiovascular medicine   \n",
       "11                      Journal of autoimmunity   \n",
       "25          The New England journal of medicine   \n",
       "30                      Frontiers in psychiatry   \n",
       "34                     Lancet (London, England)   \n",
       "35                               Brain sciences   \n",
       "37  Journal of thrombosis and haemostasis : JTH   \n",
       "38   Therapeutic advances in psychopharmacology   \n",
       "\n",
       "                                             abstract  \\\n",
       "1   <b>Background:</b> Carotid-ophthalmic aneurysm...   \n",
       "2   <h4>Background</h4>In December 2020, Israel be...   \n",
       "3   In this report, we present a case study of an ...   \n",
       "11  Coronavirus disease 2019 (COVID-19) has been c...   \n",
       "25  <h4>Background</h4>Reports have suggested an a...   \n",
       "30  <h4>Background</h4>Mental pain, defined as a s...   \n",
       "34  <h4>Background</h4>Fetal structural anomalies,...   \n",
       "35  <h4>Background</h4>SARS-CoV-2 infection has be...   \n",
       "37  <h4>Background</h4>Persistent fatigue, breathl...   \n",
       "38  Bipolar disorder (BD) is a debilitating mood d...   \n",
       "\n",
       "                                        full_text_url  \\\n",
       "1   https://www.frontiersin.org/articles/10.3389/f...   \n",
       "2   https://europepmc.org/articles/PMC8609604?pdf=...   \n",
       "3   https://www.frontiersin.org/articles/10.3389/f...   \n",
       "11  https://europepmc.org/articles/PMC7296326?pdf=...   \n",
       "25  https://www.nejm.org/doi/pdf/10.1056/NEJMoa211...   \n",
       "30  https://www.frontiersin.org/articles/10.3389/f...   \n",
       "34  http://www.thelancet.com/article/S014067361831...   \n",
       "35  https://www.mdpi.com/2076-3425/11/12/1615/pdf?...   \n",
       "37  http://www.jthjournal.org/article/S15387836220...   \n",
       "38  https://europepmc.org/articles/PMC7682206?pdf=...   \n",
       "\n",
       "                                            full_text  \n",
       "1   ORIGINAL RESEARCH\\npublished: 09 December 2021...  \n",
       "2   The new engl and jour nal of medicine\\nn engl ...  \n",
       "3   CASE REPORT\\npublished: 09 December 2021\\ndoi:...  \n",
       "11   \\n \\nSince January 2020 Elsevier has created ...  \n",
       "25          Failed to download PDF (status code: 403)  \n",
       "30  June 2016  |  Volume 7  |  Article 108\\n1\\nRev...  \n",
       "34          Failed to download PDF (status code: 403)  \n",
       "35  brain\\nsciences\\nCase Report\\nIschemic Stroke ...  \n",
       "37          Failed to download PDF (status code: 403)  \n",
       "38  https://doi.org/10.1177/2045125320973790 \\nhtt...  "
      ]
     },
     "execution_count": 57,
     "metadata": {},
     "output_type": "execute_result"
    }
   ],
   "source": [
    "tqdm.pandas(desc=\"Extracting text from PDFs\")\n",
    "\n",
    "first_1000['full_text'] = first_1000['full_text_url'].progress_apply(extract_text_from_pdf)\n",
    "\n",
    "first_1000.head(10)"
   ]
  },
  {
   "cell_type": "code",
   "execution_count": 59,
   "metadata": {},
   "outputs": [
    {
     "name": "stdout",
     "output_type": "stream",
     "text": [
      "9\n"
     ]
    }
   ],
   "source": [
    "# Filtert die Zeilen, die \"Failed to download PDF\" in der 'full_text' Spalte enthalten\n",
    "failed_rows = first_1000[first_1000['full_text'].str.contains('Failed to download PDF', na=False)]\n",
    "\n",
    "# Ausgabe der Zeilen\n",
    "print(len(failed_rows))\n"
   ]
  },
  {
   "cell_type": "code",
   "execution_count": null,
   "metadata": {},
   "outputs": [],
   "source": [
    "first_1000.to_csv(\"/home/dominik/Documents/Informatik/1_Semester/medLLM/data/pmc_patients/1000_articles.csv\")"
   ]
  },
  {
   "cell_type": "code",
   "execution_count": null,
   "metadata": {},
   "outputs": [],
   "source": [
    "articles_pdfs = first_1000[first_1000[\"pdf_url\"].notna()]\n",
    "failed_downloads = articles_pdfs[articles_pdfs[\"pdf_text\"].str.contains(\"Failed to download PDF|Failed to open stream\", na=False)]\n",
    "num_failed_downloads = failed_downloads.shape[0]\n",
    "\n",
    "print(f\"Number of rows containing 'Failed to download PDF' or 'Failed to open stream': {num_failed_downloads}\")"
   ]
  },
  {
   "cell_type": "markdown",
   "metadata": {},
   "source": [
    "1000 articles; 331 available, 182 PDF to text failed because of access/streamfailures etc, 149 pdf to text conversions successful"
   ]
  }
 ],
 "metadata": {
  "kernelspec": {
   "display_name": "bkim",
   "language": "python",
   "name": "python3"
  },
  "language_info": {
   "codemirror_mode": {
    "name": "ipython",
    "version": 3
   },
   "file_extension": ".py",
   "mimetype": "text/x-python",
   "name": "python",
   "nbconvert_exporter": "python",
   "pygments_lexer": "ipython3",
   "version": "3.12.7"
  }
 },
 "nbformat": 4,
 "nbformat_minor": 2
}
