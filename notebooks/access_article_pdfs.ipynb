{
 "cells": [
  {
   "cell_type": "code",
   "execution_count": 28,
   "metadata": {},
   "outputs": [],
   "source": [
    "import ast\n",
    "import fitz\n",
    "import io\n",
    "import pandas as pd\n",
    "from tqdm import tqdm\n",
    "import requests"
   ]
  },
  {
   "cell_type": "code",
   "execution_count": 19,
   "metadata": {},
   "outputs": [],
   "source": [
    "filtered_df = pd.read_csv(\"/home/dominik/Documents/Informatik/1_Semester/medLLM/data/pmc_patients/PMC-Patients-oa-9995.csv\")\n",
    "article_ids = filtered_df[\"PMID\"].tolist()\n",
    "linked_ids_scores = filtered_df[\"relevant_articles\"].tolist()\n",
    "\n",
    "articles_PMID = set()\n",
    "articles_PMID.update(article_ids)"
   ]
  },
  {
   "cell_type": "code",
   "execution_count": 20,
   "metadata": {},
   "outputs": [
    {
     "name": "stdout",
     "output_type": "stream",
     "text": [
      "153252\n"
     ]
    }
   ],
   "source": [
    "for id_score in linked_ids_scores:\n",
    "    data_dict = ast.literal_eval(id_score)\n",
    "    for article_id in data_dict.keys():\n",
    "        articles_PMID.add(article_id)\n",
    "\n",
    "\n",
    "print(len(articles_PMID))"
   ]
  },
  {
   "cell_type": "code",
   "execution_count": 21,
   "metadata": {},
   "outputs": [
    {
     "data": {
      "text/html": [
       "<div>\n",
       "<style scoped>\n",
       "    .dataframe tbody tr th:only-of-type {\n",
       "        vertical-align: middle;\n",
       "    }\n",
       "\n",
       "    .dataframe tbody tr th {\n",
       "        vertical-align: top;\n",
       "    }\n",
       "\n",
       "    .dataframe thead th {\n",
       "        text-align: right;\n",
       "    }\n",
       "</style>\n",
       "<table border=\"1\" class=\"dataframe\">\n",
       "  <thead>\n",
       "    <tr style=\"text-align: right;\">\n",
       "      <th></th>\n",
       "      <th>PMID</th>\n",
       "    </tr>\n",
       "  </thead>\n",
       "  <tbody>\n",
       "    <tr>\n",
       "      <th>0</th>\n",
       "      <td>29310370</td>\n",
       "    </tr>\n",
       "    <tr>\n",
       "      <th>1</th>\n",
       "      <td>24680818</td>\n",
       "    </tr>\n",
       "    <tr>\n",
       "      <th>2</th>\n",
       "      <td>24812003</td>\n",
       "    </tr>\n",
       "    <tr>\n",
       "      <th>3</th>\n",
       "      <td>34832013</td>\n",
       "    </tr>\n",
       "    <tr>\n",
       "      <th>4</th>\n",
       "      <td>17968826</td>\n",
       "    </tr>\n",
       "  </tbody>\n",
       "</table>\n",
       "</div>"
      ],
      "text/plain": [
       "       PMID\n",
       "0  29310370\n",
       "1  24680818\n",
       "2  24812003\n",
       "3  34832013\n",
       "4  17968826"
      ]
     },
     "execution_count": 21,
     "metadata": {},
     "output_type": "execute_result"
    }
   ],
   "source": [
    "articles = pd.DataFrame(list(articles_PMID), columns=[\"PMID\"])\n",
    "articles.head()"
   ]
  },
  {
   "cell_type": "code",
   "execution_count": 22,
   "metadata": {},
   "outputs": [],
   "source": [
    "def is_open_access(pmid):\n",
    "    url = f\"https://www.ebi.ac.uk/europepmc/webservices/rest/search?query=EXT_ID:{pmid}&resultType=core&format=json\"\n",
    "    response = requests.get(url)\n",
    "    \n",
    "    if response.status_code == 200:\n",
    "        data = response.json()\n",
    "        if \"resultList\" in data and data[\"resultList\"][\"result\"]:\n",
    "            result = data[\"resultList\"][\"result\"][0]\n",
    "            if result.get(\"isOpenAccess\", \"N\") == \"Y\":\n",
    "                return data[\"resultList\"][\"result\"][0][\"fullTextUrlList\"][\"fullTextUrl\"][0][\"url\"]\n",
    "        return None"
   ]
  },
  {
   "cell_type": "code",
   "execution_count": null,
   "metadata": {},
   "outputs": [
    {
     "data": {
      "text/plain": [
       "pandas.core.series.Series"
      ]
     },
     "execution_count": 25,
     "metadata": {},
     "output_type": "execute_result"
    }
   ],
   "source": [
    "type(articles[\"\"])"
   ]
  },
  {
   "cell_type": "code",
   "execution_count": null,
   "metadata": {},
   "outputs": [],
   "source": [
    "tqdm.pandas()\n",
    "\n",
    "\n",
    "articles['pdf_url'] = articles['PMID'].head(1000).progress_apply(is_open_access)\n",
    "print(articles)"
   ]
  },
  {
   "cell_type": "code",
   "execution_count": 27,
   "metadata": {},
   "outputs": [],
   "source": [
    "first_1000 = articles.head(1000)"
   ]
  },
  {
   "cell_type": "code",
   "execution_count": 29,
   "metadata": {},
   "outputs": [],
   "source": [
    "def extract_text_from_pdf(url):\n",
    "    if url is None:\n",
    "        return None\n",
    "    try:\n",
    "        response = requests.get(url)\n",
    "        if response.status_code == 200:\n",
    "            pdf_file = io.BytesIO(response.content)\n",
    "            pdf_document = fitz.open(stream=pdf_file, filetype=\"pdf\")\n",
    "            text = \"\"\n",
    "            for page in pdf_document:\n",
    "                text += page.get_text()\n",
    "            pdf_document.close()\n",
    "            return text\n",
    "        else:\n",
    "            return f\"Failed to download PDF (status code: {response.status_code})\"\n",
    "    except Exception as e:\n",
    "        return str(e)"
   ]
  },
  {
   "cell_type": "code",
   "execution_count": null,
   "metadata": {},
   "outputs": [],
   "source": [
    "tqdm.pandas(desc=\"Extracting text from PDFs\")\n",
    "\n",
    "first_1000['pdf_text'] = first_1000['pdf_url'].progress_apply(extract_text_from_pdf)\n",
    "\n",
    "first_1000.head(100)"
   ]
  },
  {
   "cell_type": "code",
   "execution_count": null,
   "metadata": {},
   "outputs": [],
   "source": [
    "first_1000.to_csv(\"/home/dominik/Documents/Informatik/1_Semester/medLLM/data/pmc_patients/1000_articles.csv\")"
   ]
  },
  {
   "cell_type": "code",
   "execution_count": null,
   "metadata": {},
   "outputs": [],
   "source": [
    "articles_pdfs = first_1000[first_1000[\"pdf_url\"].notna()]\n",
    "failed_downloads = articles_pdfs[articles_pdfs[\"pdf_text\"].str.contains(\"Failed to download PDF|Failed to open stream\", na=False)]\n",
    "num_failed_downloads = failed_downloads.shape[0]\n",
    "\n",
    "print(f\"Number of rows containing 'Failed to download PDF' or 'Failed to open stream': {num_failed_downloads}\")"
   ]
  },
  {
   "cell_type": "markdown",
   "metadata": {},
   "source": [
    "1000 articles; 331 available, 182 PDF to text failed because of access/streamfailures etc, 149 pdf to text conversions successful"
   ]
  }
 ],
 "metadata": {
  "kernelspec": {
   "display_name": "bkim",
   "language": "python",
   "name": "python3"
  },
  "language_info": {
   "codemirror_mode": {
    "name": "ipython",
    "version": 3
   },
   "file_extension": ".py",
   "mimetype": "text/x-python",
   "name": "python",
   "nbconvert_exporter": "python",
   "pygments_lexer": "ipython3",
   "version": "3.12.7"
  }
 },
 "nbformat": 4,
 "nbformat_minor": 2
}
