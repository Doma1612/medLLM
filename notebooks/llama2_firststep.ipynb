{
 "cells": [
  {
   "cell_type": "code",
   "execution_count": 1,
   "id": "6142975e-b809-4f79-8a79-70f55edaa6ad",
   "metadata": {},
   "outputs": [],
   "source": [
    "import torch\n",
    "\n",
    "import transformers\n",
    "\n",
    "from transformers import LlamaForCausalLM, LlamaTokenizer\n"
   ]
  },
  {
   "cell_type": "code",
   "execution_count": 3,
   "id": "bff122f9-7e52-461b-af2b-737faa622005",
   "metadata": {},
   "outputs": [
    {
     "data": {
      "application/vnd.jupyter.widget-view+json": {
       "model_id": "d9b109eca18a424abc35ecacc18fb976",
       "version_major": 2,
       "version_minor": 0
      },
      "text/plain": [
       "Loading checkpoint shards:   0%|          | 0/2 [00:00<?, ?it/s]"
      ]
     },
     "metadata": {},
     "output_type": "display_data"
    }
   ],
   "source": [
    "model_dir = \"meta-llama/Llama-2-7b-chat-hf\"\n",
    "\n",
    "model = LlamaForCausalLM.from_pretrained(model_dir, local_files_only = True)\n",
    "\n",
    "tokenizer = LlamaTokenizer.from_pretrained(model_dir, local_files_only = True)\n"
   ]
  },
  {
   "cell_type": "code",
   "execution_count": 4,
   "id": "9e3048bb-2258-4ba7-a27a-a924bf2faf0a",
   "metadata": {},
   "outputs": [],
   "source": [
    "pipeline = transformers.pipeline(\n",
    "        \"text-generation\",\n",
    "        model=model,\n",
    "        tokenizer = tokenizer,\n",
    "        torch_dtype=torch.bfloat16,\n",
    "        device_map=\"cuda\", #or \"auto\" if you dont have cuda\n",
    "    )"
   ]
  },
  {
   "cell_type": "code",
   "execution_count": 5,
   "id": "e7ad8753-f76e-4748-b8a3-5126c564b7fb",
   "metadata": {},
   "outputs": [],
   "source": [
    "def llamaoutput(prompt: str):\n",
    "    sequences = pipeline(\n",
    "            prompt,\n",
    "            do_sample=True,\n",
    "            top_k=10,\n",
    "            num_return_sequences=1,\n",
    "            eos_token_id=tokenizer.eos_token_id,\n",
    "            max_length=400,\n",
    "        )\n",
    "    \n",
    "    for seq in sequences:\n",
    "        print(f\"{seq['generated_text']}\")"
   ]
  },
  {
   "cell_type": "code",
   "execution_count": 6,
   "id": "95d1305f-2cbb-4cb3-818b-dd96e3869f1b",
   "metadata": {},
   "outputs": [
    {
     "name": "stdout",
     "output_type": "stream",
     "text": [
      "who is Harry Potter?\n",
      "\n",
      "Harry Potter is the main protagonist in J.K. Rowling's series of fantasy novels, which were later adapted into films. He is a young wizard who attends Hogwarts School of Witchcraft and Wizardry, where he becomes entangled in a world of magic, adventure, and danger.\n",
      "\n",
      "Harry is the son of James and Lily Potter, who were killed by the dark wizard Lord Voldemort when Harry was just a baby. Harry is famous in the wizarding world for being \"The Boy Who Lived,\" as he survived a killing curse from Voldemort that was meant to kill him.\n",
      "\n",
      "Throughout the series, Harry embarks on a journey to uncover the truth about his parents, his destiny, and his battle against Voldemort. He is aided by his friends Ron Weasley and Hermione Granger, as well as a host of other characters, including the wise and powerful wizard Albus Dumbledore.\n",
      "\n",
      "Harry's story has captured the hearts of millions of readers and viewers around the world, and has become a cultural phenomenon that continues to inspire and entertain fans of all ages.\n"
     ]
    }
   ],
   "source": [
    "llamaoutput(\"who is Harry Potter?\")"
   ]
  }
 ],
 "metadata": {
  "kernelspec": {
   "display_name": "BA",
   "language": "python",
   "name": "python3"
  },
  "language_info": {
   "codemirror_mode": {
    "name": "ipython",
    "version": 3
   },
   "file_extension": ".py",
   "mimetype": "text/x-python",
   "name": "python",
   "nbconvert_exporter": "python",
   "pygments_lexer": "ipython3",
   "version": "3.10.14"
  }
 },
 "nbformat": 4,
 "nbformat_minor": 5
}
