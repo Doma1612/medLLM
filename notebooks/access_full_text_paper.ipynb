{
 "cells": [
  {
   "cell_type": "code",
   "id": "initial_id",
   "metadata": {
    "collapsed": true,
    "ExecuteTime": {
     "end_time": "2025-01-17T16:19:57.440805Z",
     "start_time": "2025-01-17T16:19:41.944856Z"
    }
   },
   "source": [
    "import ast\n",
    "import os\n",
    "import pandas as pd\n",
    "\n",
    "# get all full texts\n",
    "list_of_files = []\n",
    "for index in range(1, 13):\n",
    "    if os.path.isfile(f\"../data/pmc_patients/processed/full_texts_{index}.csv\"):\n",
    "        df = pd.read_csv(f\"../data/pmc_patients/processed/full_texts_1.csv\")\n",
    "        print(len(df))\n",
    "        list_of_files.append(df)"
   ],
   "outputs": [
    {
     "name": "stdout",
     "output_type": "stream",
     "text": [
      "2945\n",
      "2945\n",
      "2945\n",
      "2945\n",
      "2945\n",
      "2945\n",
      "2945\n",
      "2945\n",
      "2945\n",
      "2945\n",
      "2945\n",
      "2945\n"
     ]
    }
   ],
   "execution_count": 19
  },
  {
   "metadata": {
    "ExecuteTime": {
     "end_time": "2025-01-17T16:25:02.770723Z",
     "start_time": "2025-01-17T16:25:02.299357Z"
    }
   },
   "cell_type": "code",
   "source": [
    "# combine all full texts and safe to csv\n",
    "df = pd.concat(list_of_files)\n",
    "print(len(df))\n",
    "\n",
    "# delete rows with empty full text\n",
    "df = df.dropna(subset=[\"full_text\"])\n",
    "print(len(df))\n",
    "\n",
    "# remove rows with failed downloads\n",
    "df = df[~df.full_text.str.contains(\"Failed to download\")]\n",
    "\n",
    "# update index\n",
    "df = df.reset_index(drop=True)\n",
    "\n",
    "print(len(df))\n",
    "print(df.head(10))"
   ],
   "id": "6b7832bfc74dc245",
   "outputs": [
    {
     "name": "stdout",
     "output_type": "stream",
     "text": [
      "35340\n",
      "35028\n",
      "29124\n",
      "      PMID                                          full_text\n",
      "0   203128  THE YALE JOURNAL OF BIOLOGY AND MEDICINE 50 (1...\n",
      "1   743489  Br. J. Cancer (1978) 38, 719\\nCLINICAL RESPONS...\n",
      "2   749356  THE YALE JOURNAL OF BIOLOGY AND MEDICINE 51 (1...\n",
      "3   962990  Br. J. (Cancer (1976) 34, 111\\nASSOCIATION OF ...\n",
      "4  1520599  Br.\\nJ.\\nCancer\\n(1992),\\n66,\\n603\\n606\\n1992\\...\n",
      "5  1556154  Characterization ofa Novel Peripheral Nervous\\...\n",
      "6  1701825  Brief Definitive Report\\nThe Effect of Immunos...\n",
      "7  1733434  Br. J. Cancer (1992), 65, 114-117\\n©\\nMacmilla...\n",
      "8  2391360  Fimbrin Is a Homologue of the Cytoplasmic Phos...\n",
      "9  2432071  Acidic and Basic Hair/Nail (\"Hard\") Keratins: ...\n"
     ]
    }
   ],
   "execution_count": 25
  },
  {
   "metadata": {
    "ExecuteTime": {
     "end_time": "2025-01-17T16:26:00.969933Z",
     "start_time": "2025-01-17T16:25:47.357027Z"
    }
   },
   "cell_type": "code",
   "source": "df.to_csv(\"../data/pmc_patients/processed/full_texts_combined.csv\", index=False)",
   "id": "456f91c99926bd2a",
   "outputs": [],
   "execution_count": 26
  },
  {
   "metadata": {},
   "cell_type": "markdown",
   "source": "## Remove patients with no full text available",
   "id": "219202c459295f5e"
  },
  {
   "metadata": {
    "ExecuteTime": {
     "end_time": "2025-01-17T17:41:08.645048Z",
     "start_time": "2025-01-17T17:41:08.621451Z"
    }
   },
   "cell_type": "code",
   "source": [
    "# get all full text paper ids\n",
    "full_text_paper_ids = df[\"PMID\"].tolist()\n",
    "\n",
    "# get all relevant articles\n",
    "list_of_articles = pd.read_csv(\"../data/pmc_patients/Summary_data/list_of_articles.csv\")\n",
    "print(len(list_of_articles))\n",
    "\n",
    "# drop articles that are not in the list of full text papers\n",
    "list_of_articles = list_of_articles[list_of_articles[\"article\"].isin(full_text_paper_ids)]\n",
    "\n",
    "print(len(list_of_articles))\n",
    "list_of_articles.reset_index(drop=False, inplace=True)\n",
    "list_of_articles.to_csv(\"../data/pmc_patients/Summary_data/list_of_articles_with_full_text.csv\", index=False)"
   ],
   "id": "ef9a1550d886cea4",
   "outputs": [
    {
     "name": "stdout",
     "output_type": "stream",
     "text": [
      "128836\n",
      "1828\n"
     ]
    }
   ],
   "execution_count": 74
  },
  {
   "metadata": {
    "ExecuteTime": {
     "end_time": "2025-01-17T17:57:26.523639Z",
     "start_time": "2025-01-17T17:57:24.286707Z"
    }
   },
   "cell_type": "code",
   "source": [
    "import ast\n",
    "\n",
    "patients = pd.read_csv(\"../data/pmc_patients/Summary_data/patient_relevant_articles_map.csv\")\n",
    "list_of_papers = list_of_articles[\"article\"].tolist()\n",
    "def flatten_list(input_list):\n",
    "    return [item for sublist in input_list for item in sublist]\n",
    "\n",
    "# drop articles that are not in the list of full text papers\n",
    "def filter_relevant_articles(relevant_articles):\n",
    "    articles = ast.literal_eval(relevant_articles)\n",
    "    return [article for article in articles if int(article) in list_of_papers]\n",
    "\n",
    "patients[\"relevant_articles\"] = patients[\"relevant_articles\"].apply(filter_relevant_articles)\n",
    "# drop row if relevant articles are empty\n",
    "patients = patients[patients[\"relevant_articles\"].apply(len) > 0]\n",
    "patients.reset_index(drop=False, inplace=True)\n",
    "patients.to_csv(\"../data/pmc_patients/Summary_data/patient_relevant_articles_map_with_full_text.csv\", index=False)"
   ],
   "id": "78bf6a6faac1d8a3",
   "outputs": [],
   "execution_count": 94
  },
  {
   "metadata": {
    "ExecuteTime": {
     "end_time": "2025-01-17T17:57:28.025029Z",
     "start_time": "2025-01-17T17:57:28.017858Z"
    }
   },
   "cell_type": "code",
   "source": "patients",
   "id": "f1094d0d171bc0c7",
   "outputs": [
    {
     "data": {
      "text/plain": [
       "      index                                            patient  \\\n",
       "0         0  This 60-year-old male was hospitalized due to ...   \n",
       "1         1  A 39-year-old man was hospitalized due to an i...   \n",
       "2         2  One week after a positive COVID-19 result this...   \n",
       "3         3  This 69-year-old male was admitted to the ICU ...   \n",
       "4         4  This 57-year-old male was admitted to the ICU ...   \n",
       "...     ...                                                ...   \n",
       "1974   9977  A 55-year-old man with a history of type II di...   \n",
       "1975   9981  A 15-year-old female presented with heat intol...   \n",
       "1976   9982  A 21-year-old female presented with fatigue an...   \n",
       "1977   9983  A 39-year-old female presented with fatigue an...   \n",
       "1978   9984  A 38-year-old female presented with marked jau...   \n",
       "\n",
       "     relevant_articles  \n",
       "0           [12493078]  \n",
       "1           [12493078]  \n",
       "2           [12493078]  \n",
       "3           [12493078]  \n",
       "4           [12493078]  \n",
       "...                ...  \n",
       "1974        [19543490]  \n",
       "1975        [21928702]  \n",
       "1976        [21928702]  \n",
       "1977        [21928702]  \n",
       "1978        [21928702]  \n",
       "\n",
       "[1979 rows x 3 columns]"
      ],
      "text/html": [
       "<div>\n",
       "<style scoped>\n",
       "    .dataframe tbody tr th:only-of-type {\n",
       "        vertical-align: middle;\n",
       "    }\n",
       "\n",
       "    .dataframe tbody tr th {\n",
       "        vertical-align: top;\n",
       "    }\n",
       "\n",
       "    .dataframe thead th {\n",
       "        text-align: right;\n",
       "    }\n",
       "</style>\n",
       "<table border=\"1\" class=\"dataframe\">\n",
       "  <thead>\n",
       "    <tr style=\"text-align: right;\">\n",
       "      <th></th>\n",
       "      <th>index</th>\n",
       "      <th>patient</th>\n",
       "      <th>relevant_articles</th>\n",
       "    </tr>\n",
       "  </thead>\n",
       "  <tbody>\n",
       "    <tr>\n",
       "      <th>0</th>\n",
       "      <td>0</td>\n",
       "      <td>This 60-year-old male was hospitalized due to ...</td>\n",
       "      <td>[12493078]</td>\n",
       "    </tr>\n",
       "    <tr>\n",
       "      <th>1</th>\n",
       "      <td>1</td>\n",
       "      <td>A 39-year-old man was hospitalized due to an i...</td>\n",
       "      <td>[12493078]</td>\n",
       "    </tr>\n",
       "    <tr>\n",
       "      <th>2</th>\n",
       "      <td>2</td>\n",
       "      <td>One week after a positive COVID-19 result this...</td>\n",
       "      <td>[12493078]</td>\n",
       "    </tr>\n",
       "    <tr>\n",
       "      <th>3</th>\n",
       "      <td>3</td>\n",
       "      <td>This 69-year-old male was admitted to the ICU ...</td>\n",
       "      <td>[12493078]</td>\n",
       "    </tr>\n",
       "    <tr>\n",
       "      <th>4</th>\n",
       "      <td>4</td>\n",
       "      <td>This 57-year-old male was admitted to the ICU ...</td>\n",
       "      <td>[12493078]</td>\n",
       "    </tr>\n",
       "    <tr>\n",
       "      <th>...</th>\n",
       "      <td>...</td>\n",
       "      <td>...</td>\n",
       "      <td>...</td>\n",
       "    </tr>\n",
       "    <tr>\n",
       "      <th>1974</th>\n",
       "      <td>9977</td>\n",
       "      <td>A 55-year-old man with a history of type II di...</td>\n",
       "      <td>[19543490]</td>\n",
       "    </tr>\n",
       "    <tr>\n",
       "      <th>1975</th>\n",
       "      <td>9981</td>\n",
       "      <td>A 15-year-old female presented with heat intol...</td>\n",
       "      <td>[21928702]</td>\n",
       "    </tr>\n",
       "    <tr>\n",
       "      <th>1976</th>\n",
       "      <td>9982</td>\n",
       "      <td>A 21-year-old female presented with fatigue an...</td>\n",
       "      <td>[21928702]</td>\n",
       "    </tr>\n",
       "    <tr>\n",
       "      <th>1977</th>\n",
       "      <td>9983</td>\n",
       "      <td>A 39-year-old female presented with fatigue an...</td>\n",
       "      <td>[21928702]</td>\n",
       "    </tr>\n",
       "    <tr>\n",
       "      <th>1978</th>\n",
       "      <td>9984</td>\n",
       "      <td>A 38-year-old female presented with marked jau...</td>\n",
       "      <td>[21928702]</td>\n",
       "    </tr>\n",
       "  </tbody>\n",
       "</table>\n",
       "<p>1979 rows × 3 columns</p>\n",
       "</div>"
      ]
     },
     "execution_count": 95,
     "metadata": {},
     "output_type": "execute_result"
    }
   ],
   "execution_count": 95
  }
 ],
 "metadata": {
  "kernelspec": {
   "display_name": "Python 3",
   "language": "python",
   "name": "python3"
  },
  "language_info": {
   "codemirror_mode": {
    "name": "ipython",
    "version": 2
   },
   "file_extension": ".py",
   "mimetype": "text/x-python",
   "name": "python",
   "nbconvert_exporter": "python",
   "pygments_lexer": "ipython2",
   "version": "2.7.6"
  }
 },
 "nbformat": 4,
 "nbformat_minor": 5
}
