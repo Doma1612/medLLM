{
 "cells": [
  {
   "cell_type": "code",
   "id": "initial_id",
   "metadata": {
    "collapsed": true,
    "ExecuteTime": {
     "end_time": "2025-01-17T16:19:57.440805Z",
     "start_time": "2025-01-17T16:19:41.944856Z"
    }
   },
   "source": [
    "import os\n",
    "import pandas as pd\n",
    "\n",
    "# get all full texts\n",
    "list_of_files = []\n",
    "for index in range(1, 13):\n",
    "    if os.path.isfile(f\"../data/pmc_patients/processed/full_texts_{index}.csv\"):\n",
    "        df = pd.read_csv(f\"../data/pmc_patients/processed/full_texts_1.csv\")\n",
    "        print(len(df))\n",
    "        list_of_files.append(df)"
   ],
   "outputs": [
    {
     "name": "stdout",
     "output_type": "stream",
     "text": [
      "2945\n",
      "2945\n",
      "2945\n",
      "2945\n",
      "2945\n",
      "2945\n",
      "2945\n",
      "2945\n",
      "2945\n",
      "2945\n",
      "2945\n",
      "2945\n"
     ]
    }
   ],
   "execution_count": 19
  },
  {
   "metadata": {
    "ExecuteTime": {
     "end_time": "2025-01-17T16:25:02.770723Z",
     "start_time": "2025-01-17T16:25:02.299357Z"
    }
   },
   "cell_type": "code",
   "source": [
    "# combine all full texts and safe to csv\n",
    "df = pd.concat(list_of_files)\n",
    "print(len(df))\n",
    "\n",
    "# delete rows with empty full text\n",
    "df = df.dropna(subset=[\"full_text\"])\n",
    "print(len(df))\n",
    "\n",
    "# remove rows with failed downloads\n",
    "df = df[~df.full_text.str.contains(\"Failed to download\")]\n",
    "\n",
    "# update index\n",
    "df = df.reset_index(drop=True)\n",
    "\n",
    "print(len(df))\n",
    "print(df.head(10))"
   ],
   "id": "6b7832bfc74dc245",
   "outputs": [
    {
     "name": "stdout",
     "output_type": "stream",
     "text": [
      "35340\n",
      "35028\n",
      "29124\n",
      "      PMID                                          full_text\n",
      "0   203128  THE YALE JOURNAL OF BIOLOGY AND MEDICINE 50 (1...\n",
      "1   743489  Br. J. Cancer (1978) 38, 719\\nCLINICAL RESPONS...\n",
      "2   749356  THE YALE JOURNAL OF BIOLOGY AND MEDICINE 51 (1...\n",
      "3   962990  Br. J. (Cancer (1976) 34, 111\\nASSOCIATION OF ...\n",
      "4  1520599  Br.\\nJ.\\nCancer\\n(1992),\\n66,\\n603\\n606\\n1992\\...\n",
      "5  1556154  Characterization ofa Novel Peripheral Nervous\\...\n",
      "6  1701825  Brief Definitive Report\\nThe Effect of Immunos...\n",
      "7  1733434  Br. J. Cancer (1992), 65, 114-117\\n©\\nMacmilla...\n",
      "8  2391360  Fimbrin Is a Homologue of the Cytoplasmic Phos...\n",
      "9  2432071  Acidic and Basic Hair/Nail (\"Hard\") Keratins: ...\n"
     ]
    }
   ],
   "execution_count": 25
  },
  {
   "metadata": {
    "ExecuteTime": {
     "end_time": "2025-01-17T16:26:00.969933Z",
     "start_time": "2025-01-17T16:25:47.357027Z"
    }
   },
   "cell_type": "code",
   "source": "df.to_csv(\"../data/pmc_patients/processed/full_texts_combined.csv\", index=False)\n",
   "id": "456f91c99926bd2a",
   "outputs": [],
   "execution_count": 26
  }
 ],
 "metadata": {
  "kernelspec": {
   "display_name": "Python 3",
   "language": "python",
   "name": "python3"
  },
  "language_info": {
   "codemirror_mode": {
    "name": "ipython",
    "version": 2
   },
   "file_extension": ".py",
   "mimetype": "text/x-python",
   "name": "python",
   "nbconvert_exporter": "python",
   "pygments_lexer": "ipython2",
   "version": "2.7.6"
  }
 },
 "nbformat": 4,
 "nbformat_minor": 5
}
